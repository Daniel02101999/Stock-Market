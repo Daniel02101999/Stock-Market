{
 "cells": [
  {
   "cell_type": "code",
   "execution_count": 50,
   "id": "cb0d5ae8-ead6-4982-8375-cb28f29e2320",
   "metadata": {},
   "outputs": [],
   "source": [
    "#importing directories\n",
    "import pandas as pd\n",
    "import requests\n",
    "import time\n",
    "import numpy as np\n",
    "import matplotlib.pyplot as plt"
   ]
  },
  {
   "cell_type": "code",
   "execution_count": 33,
   "id": "c8b10ef6-d1e8-4bbe-af7a-974902f14037",
   "metadata": {},
   "outputs": [
    {
     "name": "stdout",
     "output_type": "stream",
     "text": [
      "               Name   CMP Rs.    P/E  Mar Cap Rs.Cr.  NP Qtr Rs.Cr.  \\\n",
      "0  Tube Investments   2998.00  85.55        58009.46         158.19   \n",
      "1     TVS Motor co.   2802.75  60.31       133155.07         697.51   \n",
      "2       Tata Motors    718.20  11.17       264394.47        8556.00   \n",
      "3  Samvardh. Mothe.    147.85  25.25       104031.60         984.35   \n",
      "4     Maruti Suzuki  12489.00  27.09       392657.37        3911.10   \n",
      "\n",
      "   Debt / Eq  ROE %    P/B      Ticker  \n",
      "0       0.13  12.75  10.47     TIINDIA  \n",
      "1       1.73  28.88  15.71    TVSMOTOR  \n",
      "2       0.62  23.60   2.28  TATAMOTORS  \n",
      "3       0.78  11.80   3.21   MOTHERSON  \n",
      "4       0.00  15.95   4.08      MARUTI  \n"
     ]
    }
   ],
   "source": [
    "#importing auto industry data from screener\n",
    "nse_df = pd.read_csv(\"Auto Industry.csv\")\n",
    "#tickers = nse_df['Symbol'].apply(lambda x: x + \".BSE\").tolist()#converts into a python list \n",
    "#print(tickers[:5])\n",
    "nse_df = nse_df.iloc[1:].reset_index(drop=True)\n",
    "nse_df = nse_df.drop(columns=[\"S.No.\"], errors='ignore')\n",
    "print(nse_df.head())"
   ]
  },
  {
   "cell_type": "code",
   "execution_count": 34,
   "id": "9236240a-2b2e-40b1-b901-84dbea273726",
   "metadata": {},
   "outputs": [
    {
     "name": "stdout",
     "output_type": "stream",
     "text": [
      "                Name   CMP Rs.    P/E  Mar Cap Rs.Cr.  NP Qtr Rs.Cr.  \\\n",
      "0   Tube Investments   2998.00  85.55        58009.46         158.19   \n",
      "1      TVS Motor co.   2802.75  60.31       133155.07         697.51   \n",
      "2        Tata Motors    718.20  11.17       264394.47        8556.00   \n",
      "3   Samvardh. Mothe.    147.85  25.25       104031.60         984.35   \n",
      "4      Maruti Suzuki  12489.00  27.09       392657.37        3911.10   \n",
      "5                M&M   3021.95  29.07       375788.22        3541.85   \n",
      "6      Hero Motocorp   4297.00  19.64        85946.78        1168.75   \n",
      "7        Exide Inds.    382.65  40.91        32525.25         187.91   \n",
      "8      Eicher Motors   5415.00  31.40       148507.55        1362.15   \n",
      "9              Bosch  31890.90  46.50        94057.87         458.20   \n",
      "10      Bharat Forge   1248.10  59.20        59670.18         282.63   \n",
      "11   Balkrishna Inds   2674.80  29.19        51708.49         449.48   \n",
      "12        Bajaj Auto   8799.80  32.62       245741.10        2195.65   \n",
      "13     Ashok Leyland    239.70  25.26        70388.54         819.67   \n",
      "\n",
      "    Debt / Eq  ROE %    P/B      Ticker  \n",
      "0        0.13  12.75  10.47     TIINDIA  \n",
      "1        1.73  28.88  15.71    TVSMOTOR  \n",
      "2        0.62  23.60   2.28  TATAMOTORS  \n",
      "3        0.78  11.80   3.21   MOTHERSON  \n",
      "4        0.00  15.95   4.08      MARUTI  \n",
      "5        1.62  18.05   4.91         M&M  \n",
      "6        0.04  23.67   4.45  HEROMOTOCO  \n",
      "7        0.14   5.93   2.33    EXIDEIND  \n",
      "8        0.02  24.07   6.98   EICHERMOT  \n",
      "9        0.00  15.97   7.38    BOSCHLTD  \n",
      "10       0.72  12.27   6.40  BHARATFORG  \n",
      "11       0.33  17.55   5.50  BALKRISIND  \n",
      "12       0.17  26.48   7.88  BAJAJ-AUTO  \n",
      "13       4.30  28.35   6.80    ASHOKLEY  \n"
     ]
    }
   ],
   "source": [
    "#Cleaning the data removing the strings\n",
    "columns_to_clean = ['P/E', 'P/B', 'Debt / Eq', 'ROE %', 'Mar Cap Rs.Cr.']\n",
    "for col in columns_to_clean:\n",
    "    nse_df[col] = (\n",
    "        nse_df[col]\n",
    "        .astype(str)\n",
    "        .str.replace(',', '', regex=False)         # Remove commas\n",
    "        .str.replace('\\xa0', '', regex=False)      # Remove non-breaking space\n",
    "        .str.replace('\\u00a0', '', regex=False)    # Remove non-breaking space (alt form)\n",
    "        .str.replace(' ', '', regex=False)         # Remove ALL regular spaces\n",
    "        .str.replace('−', '-', regex=False)\n",
    "        .str.strip() \n",
    "    )\n",
    "    nse_df[col] = pd.to_numeric(nse_df[col], errors='coerce')\n",
    "print(nse_df.head(30))"
   ]
  },
  {
   "cell_type": "code",
   "execution_count": 43,
   "id": "1cf13965-f133-4670-9961-4fc541efc478",
   "metadata": {},
   "outputs": [
    {
     "name": "stdout",
     "output_type": "stream",
     "text": [
      "               Name  CMP Rs.    P/E  Mar Cap Rs.Cr.  NP Qtr Rs.Cr.  Debt / Eq  \\\n",
      "9             Bosch  31890.9  46.50        94057.87         458.20       0.00   \n",
      "10     Bharat Forge   1248.1  59.20        59670.18         282.63       0.72   \n",
      "11  Balkrishna Inds   2674.8  29.19        51708.49         449.48       0.33   \n",
      "12       Bajaj Auto   8799.8  32.62       245741.10        2195.65       0.17   \n",
      "13    Ashok Leyland    239.7  25.26        70388.54         819.67       4.30   \n",
      "\n",
      "    ROE %   P/B      Ticker  Value Scorer  \n",
      "9   15.97  7.38    BOSCHLTD           inf  \n",
      "10  12.27  6.40  BHARATFORG      0.000450  \n",
      "11  17.55  5.50  BALKRISIND      0.003313  \n",
      "12  26.48  7.88  BAJAJ-AUTO      0.006060  \n",
      "13  28.35  6.80    ASHOKLEY      0.000384  \n"
     ]
    }
   ],
   "source": [
    "#Create a value scorer\n",
    "\n",
    "nse_df[\"Value Scorer\"] = (nse_df[\"ROE %\"]/100)/(nse_df[\"P/B\"]*nse_df[\"Debt / Eq\"]*nse_df[\"P/E\"])\n",
    "print(nse_df.tail(5))"
   ]
  },
  {
   "cell_type": "code",
   "execution_count": 44,
   "id": "f066603c-d167-4b04-b932-caa8fba21c9d",
   "metadata": {},
   "outputs": [
    {
     "name": "stdout",
     "output_type": "stream",
     "text": [
      "                Name  CMP Rs.    P/E  Mar Cap Rs.Cr.  NP Qtr Rs.Cr.  \\\n",
      "0   Tube Investments  2998.00  85.55        58009.46         158.19   \n",
      "1      TVS Motor co.  2802.75  60.31       133155.07         697.51   \n",
      "2        Tata Motors   718.20  11.17       264394.47        8556.00   \n",
      "3   Samvardh. Mothe.   147.85  25.25       104031.60         984.35   \n",
      "5                M&M  3021.95  29.07       375788.22        3541.85   \n",
      "6      Hero Motocorp  4297.00  19.64        85946.78        1168.75   \n",
      "7        Exide Inds.   382.65  40.91        32525.25         187.91   \n",
      "8      Eicher Motors  5415.00  31.40       148507.55        1362.15   \n",
      "10      Bharat Forge  1248.10  59.20        59670.18         282.63   \n",
      "11   Balkrishna Inds  2674.80  29.19        51708.49         449.48   \n",
      "\n",
      "    Debt / Eq  ROE %    P/B      Ticker  Value Scorer  \n",
      "0        0.13  12.75  10.47     TIINDIA      0.001095  \n",
      "1        1.73  28.88  15.71    TVSMOTOR      0.000176  \n",
      "2        0.62  23.60   2.28  TATAMOTORS      0.014946  \n",
      "3        0.78  11.80   3.21   MOTHERSON      0.001866  \n",
      "5        1.62  18.05   4.91         M&M      0.000781  \n",
      "6        0.04  23.67   4.45  HEROMOTOCO      0.067707  \n",
      "7        0.14   5.93   2.33    EXIDEIND      0.004444  \n",
      "8        0.02  24.07   6.98   EICHERMOT      0.054911  \n",
      "10       0.72  12.27   6.40  BHARATFORG      0.000450  \n",
      "11       0.33  17.55   5.50  BALKRISIND      0.003313  \n"
     ]
    }
   ],
   "source": [
    "#filtering out outliers using IQR \n",
    "q1 = nse_df[\"Value Scorer\"].quantile(0.25)\n",
    "q3 = nse_df[\"Value Scorer\"].quantile(0.75)\n",
    "iqr = q3-q1\n",
    "\n",
    "lower_bound = q1 - 1.5*iqr\n",
    "upper_bound = q3 + 1.5*iqr\n",
    "\n",
    "nse_df_no_outliers = nse_df[(nse_df[\"Value Scorer\"]>=lower_bound) & (nse_df[\"Value Scorer\"]<=upper_bound)]\n",
    "print(nse_df_no_outliers.head(10))"
   ]
  },
  {
   "cell_type": "code",
   "execution_count": 45,
   "id": "ede25d4b-7b2c-403c-bcd4-18ea1bd01f84",
   "metadata": {},
   "outputs": [
    {
     "name": "stdout",
     "output_type": "stream",
     "text": [
      "                Name  CMP Rs.    P/E  Mar Cap Rs.Cr.  NP Qtr Rs.Cr.  \\\n",
      "1      TVS Motor co.  2802.75  60.31       133155.07         697.51   \n",
      "2        Tata Motors   718.20  11.17       264394.47        8556.00   \n",
      "3   Samvardh. Mothe.   147.85  25.25       104031.60         984.35   \n",
      "5                M&M  3021.95  29.07       375788.22        3541.85   \n",
      "8      Eicher Motors  5415.00  31.40       148507.55        1362.15   \n",
      "12        Bajaj Auto  8799.80  32.62       245741.10        2195.65   \n",
      "\n",
      "    Debt / Eq  ROE %    P/B      Ticker  Value Scorer  \n",
      "1        1.73  28.88  15.71    TVSMOTOR      0.000176  \n",
      "2        0.62  23.60   2.28  TATAMOTORS      0.014946  \n",
      "3        0.78  11.80   3.21   MOTHERSON      0.001866  \n",
      "5        1.62  18.05   4.91         M&M      0.000781  \n",
      "8        0.02  24.07   6.98   EICHERMOT      0.054911  \n",
      "12       0.17  26.48   7.88  BAJAJ-AUTO      0.006060  \n"
     ]
    }
   ],
   "source": [
    "#Filtering larger then median\n",
    "\n",
    "median_market_cap = nse_df_no_outliers[\"Mar Cap Rs.Cr.\"].median()\n",
    "filtered_df = nse_df_no_outliers[nse_df_no_outliers[\"Mar Cap Rs.Cr.\"] >= median_market_cap]\n",
    "print(filtered_df.head(10))"
   ]
  },
  {
   "cell_type": "code",
   "execution_count": 49,
   "id": "fb8380b3-e5c1-4f1e-af63-bb5feea1b591",
   "metadata": {},
   "outputs": [
    {
     "name": "stdout",
     "output_type": "stream",
     "text": [
      "             Name  Mar Cap Rs.Cr.  Value Scorer      Ticker\n",
      "8   Eicher Motors       148507.55      0.054911   EICHERMOT\n",
      "2     Tata Motors       264394.47      0.014946  TATAMOTORS\n",
      "12     Bajaj Auto       245741.10      0.006060  BAJAJ-AUTO\n"
     ]
    }
   ],
   "source": [
    "#Getting the top three stocks \n",
    "top_value_stocks = filtered_df.sort_values(by=\"Value Scorer\", ascending=False)\n",
    "\n",
    "#top three stocks \n",
    "top_3 = (top_value_stocks.head(3))\n",
    "print(top_3[[\"Name\",\"Mar Cap Rs.Cr.\",\"Value Scorer\",\"Ticker\"]])"
   ]
  },
  {
   "cell_type": "code",
   "execution_count": 51,
   "id": "34b70931-1507-4f40-a5d5-e6e01f27fbfa",
   "metadata": {},
   "outputs": [
    {
     "data": {
      "image/png": "[encoded data removed]",
      "text/plain": [
       "<Figure size 1200x600 with 1 Axes>"
      ]
     },
     "metadata": {},
     "output_type": "display_data"
    }
   ],
   "source": [
    "#plotting maket cap and value scorer of top three \n",
    "plt.figure(figsize=(12,6))\n",
    "plt.pie(top_3[\"Mar Cap Rs.Cr.\"], labels = top_3[\"Name\"],autopct='%1.2f%%', startangle=140, colors=[\"skyblue\", \"lightgreen\", \"salmon\"])\n",
    "plt.title(\"Market Cap [Rs. Cr.]\")\n",
    "plt.axis('equal')\n",
    "\n",
    "plt.show()"
   ]
  },
  {
   "cell_type": "code",
   "execution_count": null,
   "id": "4d61440a-be57-4ba4-8421-e6be9da220bf",
   "metadata": {},
   "outputs": [],
   "source": []
  }
 ],
 "metadata": {
  "kernelspec": {
   "display_name": "Python 3 (ipykernel)",
   "language": "python",
   "name": "python3"
  },
  "language_info": {
   "codemirror_mode": {
    "name": "ipython",
    "version": 3
   },
   "file_extension": ".py",
   "mimetype": "text/x-python",
   "name": "python",
   "nbconvert_exporter": "python",
   "pygments_lexer": "ipython3",
   "version": "3.12.9"
  }
 },
 "nbformat": 4,
 "nbformat_minor": 5
}
